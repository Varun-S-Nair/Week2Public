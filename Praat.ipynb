{
 "cells": [
  {
   "cell_type": "code",
   "execution_count": 1,
   "metadata": {},
   "outputs": [
    {
     "name": "stdout",
     "output_type": "stream",
     "text": [
      "Collecting praat-parselmouth\n",
      "\u001b[?25l  Downloading https://files.pythonhosted.org/packages/d5/3b/c76ee420864d90339e37fee093b6a9452e8a53def51ba7757c4505138cd2/praat_parselmouth-0.3.3-cp36-cp36m-macosx_10_6_intel.whl (8.1MB)\n",
      "\u001b[K    100% |████████████████████████████████| 8.1MB 3.1MB/s eta 0:00:01\n",
      "\u001b[?25hRequirement already satisfied: numpy>=1.7.0 in /Library/Frameworks/Python.framework/Versions/3.6/lib/python3.6/site-packages (from praat-parselmouth) (1.15.2)\n",
      "Installing collected packages: praat-parselmouth\n",
      "Successfully installed praat-parselmouth-0.3.3\n",
      "\u001b[33mYou are using pip version 19.0.3, however version 19.1.1 is available.\n",
      "You should consider upgrading via the 'pip install --upgrade pip' command.\u001b[0m\n"
     ]
    }
   ],
   "source": [
    "!pip install praat-parselmouth"
   ]
  },
  {
   "cell_type": "code",
   "execution_count": 17,
   "metadata": {},
   "outputs": [],
   "source": [
    "import parselmouth as pm\n",
    "import os\n",
    "import numpy as np\n",
    "import matplotlib.pyplot as plt"
   ]
  },
  {
   "cell_type": "markdown",
   "metadata": {},
   "source": [
    "Praat is a software package written in C and C++ that implements many speech analysis algorithms in an easy-to-use interface. We're going to be using the parselmouth package, a Python wrapper for Praat functions. Documentation is sparse for the library, but exploring the [documentation](https://parselmouth.readthedocs.io/en/stable/installation.html) might be helpful to find new functions. "
   ]
  },
  {
   "cell_type": "code",
   "execution_count": 4,
   "metadata": {},
   "outputs": [
    {
     "data": {
      "text/plain": [
       "parselmouth.Sound"
      ]
     },
     "execution_count": 4,
     "metadata": {},
     "output_type": "execute_result"
    }
   ],
   "source": [
    "Harris = pm.Sound(\"Harris.wav\")\n",
    "type(Harris)"
   ]
  },
  {
   "cell_type": "markdown",
   "metadata": {},
   "source": [
    "We've imported Harris's voice as a parselmouth.Sound object. This is parselmouth's version of his voice, and has a huge number of features that can be found on the [documentation](https://parselmouth.readthedocs.io/en/stable/api_reference.html#parselmouth.Sound). The only problem with the documentation is that it doesn't exist. This library is abysmally documented. But that's ok, I can show you how to get what you need from it. "
   ]
  },
  {
   "cell_type": "code",
   "execution_count": 7,
   "metadata": {},
   "outputs": [],
   "source": [
    "hInt = Harris.to_intensity()\n",
    "hPit = Harris.to_pitch()\n",
    "hForm = Harris.to_formant_burg()"
   ]
  },
  {
   "cell_type": "code",
   "execution_count": 10,
   "metadata": {},
   "outputs": [
    {
     "data": {
      "text/plain": [
       "array([2.93877551e-02, 3.73877551e-02, 4.53877551e-02, ...,\n",
       "       5.72933878e+01, 5.73013878e+01, 5.73093878e+01])"
      ]
     },
     "execution_count": 10,
     "metadata": {},
     "output_type": "execute_result"
    }
   ],
   "source": [
    "hInt.t_grid()"
   ]
  },
  {
   "cell_type": "markdown",
   "metadata": {},
   "source": [
    "The .t_grid() attribute shows a list of timesteps within the sound file. By iterating over this list of times, we can pull every value from the Sound object and add it to a new list, like we're doing below. This can be done for any of the features. "
   ]
  },
  {
   "cell_type": "code",
   "execution_count": 15,
   "metadata": {},
   "outputs": [],
   "source": [
    "intensity = []\n",
    "for val in hInt.t_grid():\n",
    "    intensity.append(hInt.get_value(val))"
   ]
  },
  {
   "cell_type": "code",
   "execution_count": 19,
   "metadata": {},
   "outputs": [
    {
     "data": {
      "text/plain": [
       "[<matplotlib.lines.Line2D at 0x120baa668>]"
      ]
     },
     "execution_count": 19,
     "metadata": {},
     "output_type": "execute_result"
    },
    {
     "data": {
      "image/png": "[encoded data removed]",
      "text/plain": [
       "<Figure size 432x288 with 1 Axes>"
      ]
     },
     "metadata": {
      "needs_background": "light"
     },
     "output_type": "display_data"
    }
   ],
   "source": [
    "plt.plot(intensity[0:100])"
   ]
  },
  {
   "cell_type": "code",
   "execution_count": null,
   "metadata": {},
   "outputs": [],
   "source": []
  }
 ],
 "metadata": {
  "kernelspec": {
   "display_name": "Python 3",
   "language": "python",
   "name": "python3"
  },
  "language_info": {
   "codemirror_mode": {
    "name": "ipython",
    "version": 3
   },
   "file_extension": ".py",
   "mimetype": "text/x-python",
   "name": "python",
   "nbconvert_exporter": "python",
   "pygments_lexer": "ipython3",
   "version": "3.6.7"
  }
 },
 "nbformat": 4,
 "nbformat_minor": 2
}
