{
 "cells": [
  {
   "cell_type": "code",
   "execution_count": 38,
   "metadata": {},
   "outputs": [],
   "source": [
    "import numpy as np\n",
    "import pandas as pd"
   ]
  },
  {
   "cell_type": "code",
   "execution_count": 39,
   "metadata": {},
   "outputs": [
    {
     "data": {
      "text/html": [
       "<div>\n",
       "<style scoped>\n",
       "    .dataframe tbody tr th:only-of-type {\n",
       "        vertical-align: middle;\n",
       "    }\n",
       "\n",
       "    .dataframe tbody tr th {\n",
       "        vertical-align: top;\n",
       "    }\n",
       "\n",
       "    .dataframe thead th {\n",
       "        text-align: right;\n",
       "    }\n",
       "</style>\n",
       "<table border=\"1\" class=\"dataframe\">\n",
       "  <thead>\n",
       "    <tr style=\"text-align: right;\">\n",
       "      <th></th>\n",
       "      <th>Duration:</th>\n",
       "      <th>2 0</th>\n",
       "    </tr>\n",
       "  </thead>\n",
       "  <tbody>\n",
       "    <tr>\n",
       "      <th>5</th>\n",
       "      <td>'0:0:0.0</td>\n",
       "      <td>373</td>\n",
       "    </tr>\n",
       "    <tr>\n",
       "      <th>6</th>\n",
       "      <td>'0:0:0.02</td>\n",
       "      <td>362</td>\n",
       "    </tr>\n",
       "    <tr>\n",
       "      <th>7</th>\n",
       "      <td>'0:0:0.04</td>\n",
       "      <td>351</td>\n",
       "    </tr>\n",
       "    <tr>\n",
       "      <th>8</th>\n",
       "      <td>'0:0:0.06</td>\n",
       "      <td>346</td>\n",
       "    </tr>\n",
       "    <tr>\n",
       "      <th>9</th>\n",
       "      <td>'0:0:0.08</td>\n",
       "      <td>346</td>\n",
       "    </tr>\n",
       "    <tr>\n",
       "      <th>10</th>\n",
       "      <td>'0:0:0.1</td>\n",
       "      <td>347</td>\n",
       "    </tr>\n",
       "    <tr>\n",
       "      <th>11</th>\n",
       "      <td>'0:0:0.12</td>\n",
       "      <td>347</td>\n",
       "    </tr>\n",
       "    <tr>\n",
       "      <th>12</th>\n",
       "      <td>'0:0:0.14</td>\n",
       "      <td>348</td>\n",
       "    </tr>\n",
       "    <tr>\n",
       "      <th>13</th>\n",
       "      <td>'0:0:0.16</td>\n",
       "      <td>349</td>\n",
       "    </tr>\n",
       "    <tr>\n",
       "      <th>14</th>\n",
       "      <td>'0:0:0.18</td>\n",
       "      <td>349</td>\n",
       "    </tr>\n",
       "    <tr>\n",
       "      <th>15</th>\n",
       "      <td>'0:0:0.2</td>\n",
       "      <td>349</td>\n",
       "    </tr>\n",
       "    <tr>\n",
       "      <th>16</th>\n",
       "      <td>'0:0:0.22</td>\n",
       "      <td>352</td>\n",
       "    </tr>\n",
       "    <tr>\n",
       "      <th>17</th>\n",
       "      <td>'0:0:0.24</td>\n",
       "      <td>357</td>\n",
       "    </tr>\n",
       "    <tr>\n",
       "      <th>18</th>\n",
       "      <td>'0:0:0.26</td>\n",
       "      <td>362</td>\n",
       "    </tr>\n",
       "    <tr>\n",
       "      <th>19</th>\n",
       "      <td>'0:0:0.28</td>\n",
       "      <td>367</td>\n",
       "    </tr>\n",
       "    <tr>\n",
       "      <th>20</th>\n",
       "      <td>'0:0:0.3</td>\n",
       "      <td>370</td>\n",
       "    </tr>\n",
       "    <tr>\n",
       "      <th>21</th>\n",
       "      <td>'0:0:0.32</td>\n",
       "      <td>369</td>\n",
       "    </tr>\n",
       "    <tr>\n",
       "      <th>22</th>\n",
       "      <td>'0:0:0.34</td>\n",
       "      <td>369</td>\n",
       "    </tr>\n",
       "    <tr>\n",
       "      <th>23</th>\n",
       "      <td>'0:0:0.36</td>\n",
       "      <td>370</td>\n",
       "    </tr>\n",
       "    <tr>\n",
       "      <th>24</th>\n",
       "      <td>'0:0:0.38</td>\n",
       "      <td>371</td>\n",
       "    </tr>\n",
       "    <tr>\n",
       "      <th>25</th>\n",
       "      <td>'0:0:0.4</td>\n",
       "      <td>371</td>\n",
       "    </tr>\n",
       "    <tr>\n",
       "      <th>26</th>\n",
       "      <td>'0:0:0.42</td>\n",
       "      <td>371</td>\n",
       "    </tr>\n",
       "    <tr>\n",
       "      <th>27</th>\n",
       "      <td>'0:0:0.44</td>\n",
       "      <td>372</td>\n",
       "    </tr>\n",
       "    <tr>\n",
       "      <th>28</th>\n",
       "      <td>'0:0:0.46</td>\n",
       "      <td>372</td>\n",
       "    </tr>\n",
       "    <tr>\n",
       "      <th>29</th>\n",
       "      <td>'0:0:0.48</td>\n",
       "      <td>373</td>\n",
       "    </tr>\n",
       "    <tr>\n",
       "      <th>30</th>\n",
       "      <td>'0:0:0.5</td>\n",
       "      <td>373</td>\n",
       "    </tr>\n",
       "    <tr>\n",
       "      <th>31</th>\n",
       "      <td>'0:0:0.52</td>\n",
       "      <td>374</td>\n",
       "    </tr>\n",
       "    <tr>\n",
       "      <th>32</th>\n",
       "      <td>'0:0:0.54</td>\n",
       "      <td>374</td>\n",
       "    </tr>\n",
       "    <tr>\n",
       "      <th>33</th>\n",
       "      <td>'0:0:0.56</td>\n",
       "      <td>374</td>\n",
       "    </tr>\n",
       "    <tr>\n",
       "      <th>34</th>\n",
       "      <td>'0:0:0.58</td>\n",
       "      <td>375</td>\n",
       "    </tr>\n",
       "    <tr>\n",
       "      <th>...</th>\n",
       "      <td>...</td>\n",
       "      <td>...</td>\n",
       "    </tr>\n",
       "    <tr>\n",
       "      <th>5976</th>\n",
       "      <td>'0:1:59.42</td>\n",
       "      <td>369</td>\n",
       "    </tr>\n",
       "    <tr>\n",
       "      <th>5977</th>\n",
       "      <td>'0:1:59.44</td>\n",
       "      <td>368</td>\n",
       "    </tr>\n",
       "    <tr>\n",
       "      <th>5978</th>\n",
       "      <td>'0:1:59.46</td>\n",
       "      <td>367</td>\n",
       "    </tr>\n",
       "    <tr>\n",
       "      <th>5979</th>\n",
       "      <td>'0:1:59.48</td>\n",
       "      <td>367</td>\n",
       "    </tr>\n",
       "    <tr>\n",
       "      <th>5980</th>\n",
       "      <td>'0:1:59.5</td>\n",
       "      <td>368</td>\n",
       "    </tr>\n",
       "    <tr>\n",
       "      <th>5981</th>\n",
       "      <td>'0:1:59.52</td>\n",
       "      <td>369</td>\n",
       "    </tr>\n",
       "    <tr>\n",
       "      <th>5982</th>\n",
       "      <td>'0:1:59.54</td>\n",
       "      <td>370</td>\n",
       "    </tr>\n",
       "    <tr>\n",
       "      <th>5983</th>\n",
       "      <td>'0:1:59.56</td>\n",
       "      <td>370</td>\n",
       "    </tr>\n",
       "    <tr>\n",
       "      <th>5984</th>\n",
       "      <td>'0:1:59.58</td>\n",
       "      <td>371</td>\n",
       "    </tr>\n",
       "    <tr>\n",
       "      <th>5985</th>\n",
       "      <td>'0:1:59.6</td>\n",
       "      <td>371</td>\n",
       "    </tr>\n",
       "    <tr>\n",
       "      <th>5986</th>\n",
       "      <td>'0:1:59.62</td>\n",
       "      <td>372</td>\n",
       "    </tr>\n",
       "    <tr>\n",
       "      <th>5987</th>\n",
       "      <td>'0:1:59.64</td>\n",
       "      <td>372</td>\n",
       "    </tr>\n",
       "    <tr>\n",
       "      <th>5988</th>\n",
       "      <td>'0:1:59.66</td>\n",
       "      <td>372</td>\n",
       "    </tr>\n",
       "    <tr>\n",
       "      <th>5989</th>\n",
       "      <td>'0:1:59.68</td>\n",
       "      <td>372</td>\n",
       "    </tr>\n",
       "    <tr>\n",
       "      <th>5990</th>\n",
       "      <td>'0:1:59.7</td>\n",
       "      <td>372</td>\n",
       "    </tr>\n",
       "    <tr>\n",
       "      <th>5991</th>\n",
       "      <td>'0:1:59.72</td>\n",
       "      <td>372</td>\n",
       "    </tr>\n",
       "    <tr>\n",
       "      <th>5992</th>\n",
       "      <td>'0:1:59.74</td>\n",
       "      <td>371</td>\n",
       "    </tr>\n",
       "    <tr>\n",
       "      <th>5993</th>\n",
       "      <td>'0:1:59.76</td>\n",
       "      <td>371</td>\n",
       "    </tr>\n",
       "    <tr>\n",
       "      <th>5994</th>\n",
       "      <td>'0:1:59.78</td>\n",
       "      <td>372</td>\n",
       "    </tr>\n",
       "    <tr>\n",
       "      <th>5995</th>\n",
       "      <td>'0:1:59.8</td>\n",
       "      <td>377</td>\n",
       "    </tr>\n",
       "    <tr>\n",
       "      <th>5996</th>\n",
       "      <td>'0:1:59.82</td>\n",
       "      <td>389</td>\n",
       "    </tr>\n",
       "    <tr>\n",
       "      <th>5997</th>\n",
       "      <td>'0:1:59.84</td>\n",
       "      <td>400</td>\n",
       "    </tr>\n",
       "    <tr>\n",
       "      <th>5998</th>\n",
       "      <td>'0:1:59.86</td>\n",
       "      <td>406</td>\n",
       "    </tr>\n",
       "    <tr>\n",
       "      <th>5999</th>\n",
       "      <td>'0:1:59.88</td>\n",
       "      <td>406</td>\n",
       "    </tr>\n",
       "    <tr>\n",
       "      <th>6000</th>\n",
       "      <td>'0:1:59.9</td>\n",
       "      <td>402</td>\n",
       "    </tr>\n",
       "    <tr>\n",
       "      <th>6001</th>\n",
       "      <td>'0:1:59.92</td>\n",
       "      <td>397</td>\n",
       "    </tr>\n",
       "    <tr>\n",
       "      <th>6002</th>\n",
       "      <td>'0:1:59.94</td>\n",
       "      <td>390</td>\n",
       "    </tr>\n",
       "    <tr>\n",
       "      <th>6003</th>\n",
       "      <td>'0:1:59.96</td>\n",
       "      <td>384</td>\n",
       "    </tr>\n",
       "    <tr>\n",
       "      <th>6004</th>\n",
       "      <td>'0:1:59.98</td>\n",
       "      <td>380</td>\n",
       "    </tr>\n",
       "    <tr>\n",
       "      <th>6005</th>\n",
       "      <td>'0:1:60.0</td>\n",
       "      <td>377</td>\n",
       "    </tr>\n",
       "  </tbody>\n",
       "</table>\n",
       "<p>6001 rows × 2 columns</p>\n",
       "</div>"
      ],
      "text/plain": [
       "       Duration:  2 0\n",
       "5       '0:0:0.0  373\n",
       "6      '0:0:0.02  362\n",
       "7      '0:0:0.04  351\n",
       "8      '0:0:0.06  346\n",
       "9      '0:0:0.08  346\n",
       "10      '0:0:0.1  347\n",
       "11     '0:0:0.12  347\n",
       "12     '0:0:0.14  348\n",
       "13     '0:0:0.16  349\n",
       "14     '0:0:0.18  349\n",
       "15      '0:0:0.2  349\n",
       "16     '0:0:0.22  352\n",
       "17     '0:0:0.24  357\n",
       "18     '0:0:0.26  362\n",
       "19     '0:0:0.28  367\n",
       "20      '0:0:0.3  370\n",
       "21     '0:0:0.32  369\n",
       "22     '0:0:0.34  369\n",
       "23     '0:0:0.36  370\n",
       "24     '0:0:0.38  371\n",
       "25      '0:0:0.4  371\n",
       "26     '0:0:0.42  371\n",
       "27     '0:0:0.44  372\n",
       "28     '0:0:0.46  372\n",
       "29     '0:0:0.48  373\n",
       "30      '0:0:0.5  373\n",
       "31     '0:0:0.52  374\n",
       "32     '0:0:0.54  374\n",
       "33     '0:0:0.56  374\n",
       "34     '0:0:0.58  375\n",
       "...          ...  ...\n",
       "5976  '0:1:59.42  369\n",
       "5977  '0:1:59.44  368\n",
       "5978  '0:1:59.46  367\n",
       "5979  '0:1:59.48  367\n",
       "5980   '0:1:59.5  368\n",
       "5981  '0:1:59.52  369\n",
       "5982  '0:1:59.54  370\n",
       "5983  '0:1:59.56  370\n",
       "5984  '0:1:59.58  371\n",
       "5985   '0:1:59.6  371\n",
       "5986  '0:1:59.62  372\n",
       "5987  '0:1:59.64  372\n",
       "5988  '0:1:59.66  372\n",
       "5989  '0:1:59.68  372\n",
       "5990   '0:1:59.7  372\n",
       "5991  '0:1:59.72  372\n",
       "5992  '0:1:59.74  371\n",
       "5993  '0:1:59.76  371\n",
       "5994  '0:1:59.78  372\n",
       "5995   '0:1:59.8  377\n",
       "5996  '0:1:59.82  389\n",
       "5997  '0:1:59.84  400\n",
       "5998  '0:1:59.86  406\n",
       "5999  '0:1:59.88  406\n",
       "6000   '0:1:59.9  402\n",
       "6001  '0:1:59.92  397\n",
       "6002  '0:1:59.94  390\n",
       "6003  '0:1:59.96  384\n",
       "6004  '0:1:59.98  380\n",
       "6005   '0:1:60.0  377\n",
       "\n",
       "[6001 rows x 2 columns]"
      ]
     },
     "execution_count": 39,
     "metadata": {},
     "output_type": "execute_result"
    }
   ],
   "source": [
    "#https://www.shimmersensing.com/support/sample-data/\n",
    "df=pd.read_csv('/Users/varun/Desktop/BeaverWorks/Week2Public/heartrates/VarunNairHeartbeat.csv', sep=',',header=1)\n",
    "df\n",
    "df = df[5:6006]\n",
    "df"
   ]
  },
  {
   "cell_type": "code",
   "execution_count": 40,
   "metadata": {},
   "outputs": [],
   "source": [
    "ppg=df.values[:,1].astype(np.double)"
   ]
  },
  {
   "cell_type": "code",
   "execution_count": 41,
   "metadata": {},
   "outputs": [
    {
     "data": {
      "text/plain": [
       "array([373., 362., 351., ..., 384., 380., 377.])"
      ]
     },
     "execution_count": 41,
     "metadata": {},
     "output_type": "execute_result"
    }
   ],
   "source": [
    "ppg"
   ]
  },
  {
   "cell_type": "code",
   "execution_count": 42,
   "metadata": {},
   "outputs": [
    {
     "data": {
      "text/plain": [
       "<Figure size 640x480 with 1 Axes>"
      ]
     },
     "metadata": {},
     "output_type": "display_data"
    }
   ],
   "source": [
    "import matplotlib\n",
    "import matplotlib.pyplot as plt\n",
    "\n",
    "fig, ax = plt.subplots()\n",
    "\n",
    "fs = 50\n",
    "t = np.arange(ppg.shape[0])/fs\n",
    "ax.plot(t,ppg)\n",
    "\n",
    "ax.set(xlabel='time (s)', ylabel='voltage (mV)',\n",
    "       title='PPG')\n",
    "plt.xlim(0,10)\n",
    "ax.grid()\n",
    "fig.savefig(\"test.png\")\n",
    "plt.show()\n"
   ]
  },
  {
   "cell_type": "code",
   "execution_count": 43,
   "metadata": {},
   "outputs": [
    {
     "data": {
      "image/png": "[encoded data removed]",
      "text/plain": [
       "<Figure size 432x288 with 1 Axes>"
      ]
     },
     "metadata": {
      "needs_background": "light"
     },
     "output_type": "display_data"
    }
   ],
   "source": [
    "import matplotlib.pyplot as plt\n",
    "from scipy.misc import electrocardiogram\n",
    "from scipy.signal import find_peaks\n",
    "x = electrocardiogram()[2000:4000]\n",
    "peaks, _ = find_peaks(x, height=0)\n",
    "plt.plot(x)\n",
    "plt.plot(peaks, x[peaks], \"x\")\n",
    "plt.plot(np.zeros_like(x), \"--\", color=\"gray\")\n",
    "plt.show()"
   ]
  },
  {
   "cell_type": "code",
   "execution_count": 44,
   "metadata": {},
   "outputs": [
    {
     "data": {
      "image/png": "[encoded data removed]",
      "text/plain": [
       "<Figure size 432x288 with 1 Axes>"
      ]
     },
     "metadata": {
      "needs_background": "light"
     },
     "output_type": "display_data"
    }
   ],
   "source": [
    "peaks, _ = find_peaks(x, distance=150)\n",
    "np.diff(peaks)\n",
    "plt.plot(x)\n",
    "plt.plot(peaks, x[peaks], \"x\")\n",
    "plt.show()"
   ]
  },
  {
   "cell_type": "code",
   "execution_count": 45,
   "metadata": {},
   "outputs": [
    {
     "data": {
      "image/png": "[encoded data removed]",
      "text/plain": [
       "<Figure size 432x288 with 1 Axes>"
      ]
     },
     "metadata": {
      "needs_background": "light"
     },
     "output_type": "display_data"
    }
   ],
   "source": [
    "fs = 50\n",
    "peaks, _ = find_peaks(ppg, distance=fs * 40 / 60)\n",
    "plt.plot(ppg,'.-')\n",
    "plt.plot(peaks, ppg[peaks], \"x\")\n",
    "plt.xlim(0,500)\n",
    "plt.ylabel('PPG')\n",
    "plt.xlabel('Time (samples)')\n",
    "plt.show()"
   ]
  },
  {
   "cell_type": "code",
   "execution_count": 46,
   "metadata": {},
   "outputs": [
    {
     "data": {
      "text/plain": [
       "array([51, 44, 42, 46, 50, 50, 48, 48, 51, 47, 47, 43, 46, 52, 48, 49, 51,\n",
       "       45, 50, 52, 48, 42, 45, 46, 45, 54, 46, 47, 43, 45, 49, 48, 51, 52,\n",
       "       46, 48, 49, 49, 44, 46, 65, 39, 34, 53, 55, 49, 51, 73, 67, 48, 48,\n",
       "       53, 53, 49, 51, 51, 42, 41, 42, 49, 51, 52, 46, 46, 47, 41, 40, 42,\n",
       "       42, 52, 48, 50, 53, 51, 47, 48, 48, 43, 46, 56, 49, 52, 53, 45, 46,\n",
       "       46, 42, 43, 46, 50, 48, 46, 49, 48, 47, 46, 50, 45, 52, 52, 46, 50,\n",
       "       49, 44, 46, 46, 47, 48, 49, 45, 48, 48, 49, 51, 44, 43, 44, 46, 51,\n",
       "       49, 49, 48, 47, 49])"
      ]
     },
     "execution_count": 46,
     "metadata": {},
     "output_type": "execute_result"
    }
   ],
   "source": [
    "np.diff(peaks) "
   ]
  },
  {
   "cell_type": "code",
   "execution_count": 47,
   "metadata": {},
   "outputs": [
    {
     "data": {
      "text/plain": [
       "57.638709677419364"
      ]
     },
     "execution_count": 47,
     "metadata": {},
     "output_type": "execute_result"
    }
   ],
   "source": [
    "np.mean(np.diff(peaks) / fs * 60)"
   ]
  },
  {
   "cell_type": "code",
   "execution_count": null,
   "metadata": {},
   "outputs": [],
   "source": []
  },
  {
   "cell_type": "code",
   "execution_count": 48,
   "metadata": {},
   "outputs": [
    {
     "data": {
      "text/plain": [
       "3.141592653589793"
      ]
     },
     "execution_count": 48,
     "metadata": {},
     "output_type": "execute_result"
    },
    {
     "data": {
      "image/png": "[encoded data removed]",
      "text/plain": [
       "<Figure size 432x288 with 1 Axes>"
      ]
     },
     "metadata": {
      "needs_background": "light"
     },
     "output_type": "display_data"
    }
   ],
   "source": [
    "import matplotlib.pyplot as plt\n",
    "fs = 50\n",
    "f = 1\n",
    "t = np.arange(50)\n",
    "x = np.sin(t*2*np.pi*f/fs)\n",
    "plt.plot(t,x)\n",
    "np.pi"
   ]
  },
  {
   "cell_type": "code",
   "execution_count": 59,
   "metadata": {},
   "outputs": [
    {
     "data": {
      "image/png": "[encoded data removed]",
      "text/plain": [
       "<Figure size 432x288 with 1 Axes>"
      ]
     },
     "metadata": {
      "needs_background": "light"
     },
     "output_type": "display_data"
    }
   ],
   "source": [
    "fs = 50\n",
    "f = 20\n",
    "t = np.arange(50)\n",
    "x = np.sin(t*2*np.pi*f/fs)\n",
    "# plt.xlim([0,64])\n",
    "sp = np.fft.fft(x)/x.shape[0]\n",
    "freq = fs*np.fft.fftfreq(t.shape[-1])\n",
    "plt.plot(freq, abs(sp))\n",
    "plt.show()"
   ]
  },
  {
   "cell_type": "code",
   "execution_count": 65,
   "metadata": {},
   "outputs": [
    {
     "data": {
      "image/png": "[encoded data removed]",
      "text/plain": [
       "<Figure size 432x288 with 1 Axes>"
      ]
     },
     "metadata": {
      "needs_background": "light"
     },
     "output_type": "display_data"
    }
   ],
   "source": [
    "fs = 50\n",
    "NFFT = 4096\n",
    "sp = np.fft.fft(ppg - np.mean(ppg),NFFT)/ppg.shape[0]\n",
    "t = np.arange(NFFT)\n",
    "freq = fs*np.fft.fftfreq(t.shape[-1])\n",
    "plt.plot(freq, abs(sp))\n",
    "plt.xlim([0, 10])\n",
    "plt.show()"
   ]
  },
  {
   "cell_type": "code",
   "execution_count": 66,
   "metadata": {},
   "outputs": [
    {
     "data": {
      "text/plain": [
       "1.0498046875"
      ]
     },
     "execution_count": 66,
     "metadata": {},
     "output_type": "execute_result"
    }
   ],
   "source": [
    "freq[np.argmax(abs(sp))]"
   ]
  },
  {
   "cell_type": "code",
   "execution_count": 67,
   "metadata": {},
   "outputs": [
    {
     "data": {
      "text/plain": [
       "62.98828125"
      ]
     },
     "execution_count": 67,
     "metadata": {},
     "output_type": "execute_result"
    }
   ],
   "source": [
    "freq[np.argmax(abs(sp))]*60"
   ]
  },
  {
   "cell_type": "code",
   "execution_count": 68,
   "metadata": {},
   "outputs": [
    {
     "data": {
      "text/plain": [
       "62.45802552048355"
      ]
     },
     "execution_count": 68,
     "metadata": {},
     "output_type": "execute_result"
    }
   ],
   "source": [
    "from scipy.signal import find_peaks\n",
    "peaks, _ = find_peaks(df.values[:,1].astype(np.double), distance=fs*40/60)\n",
    "60/ (np.mean(np.diff(peaks)) / 50)"
   ]
  },
  {
   "cell_type": "code",
   "execution_count": 54,
   "metadata": {},
   "outputs": [
    {
     "name": "stdout",
     "output_type": "stream",
     "text": [
      "62.45802552048355\n",
      "62.45802552048355\n"
     ]
    }
   ],
   "source": [
    "from scipy.signal import find_peaks\n",
    "\n",
    "def find_hr(path):\n",
    "    fs = 50\n",
    "    df=pd.read_csv(path, sep=',',header=1)\n",
    "    df = df[5:6006]\n",
    "    peaks, _ = find_peaks(df.values[:,1].astype(np.double), distance=fs*40/60)\n",
    "    return 60/ (np.mean(np.diff(peaks)) / 50)\n",
    "\n",
    "\n",
    "def heart_r(path):\n",
    "    df=pd.read_csv(path, sep=',',header=1)\n",
    "    df = df[5:6006]\n",
    "    ppg=df.values[:,1].astype(np.double)\n",
    "    fs = 50\n",
    "    NFFT = 4096\n",
    "    sp = np.fft.fft(ppg - np.mean(ppg),NFFT)/ppg.shape[0]\n",
    "    freq[np.argmax(abs(sp))]*60\n",
    "\n",
    "print(find_hr('/Users/varun/Desktop/BeaverWorks/Week2Public/heartrates/VarunNairHeartbeat.csv'))\n",
    "print(find_hr('/Users/varun/Desktop/BeaverWorks/Week2Public/heartrates/VarunNairHeartbeat.csv'))"
   ]
  },
  {
   "cell_type": "code",
   "execution_count": 55,
   "metadata": {},
   "outputs": [],
   "source": [
    "import os\n",
    "hr = {}\n",
    "for filename in os.listdir('/Users/varun/Desktop/BeaverWorks/Week2Public/heartrates/'):\n",
    "    hr[filename[:-13]] = find_hr('/Users/varun/Desktop/BeaverWorks/Week2Public/heartrates/'+filename)"
   ]
  },
  {
   "cell_type": "code",
   "execution_count": 56,
   "metadata": {},
   "outputs": [
    {
     "name": "stdout",
     "output_type": "stream",
     "text": [
      "('OdessaThompson', 72.0403022670025)\n",
      "('EstebanCintron', 64.22478675363773)\n",
      "('DavidDelValle', 75.46536978031193)\n",
      "('AadiDass-Vattam', 72.22222222222221)\n",
      "('PratikBharadwaj', 74.30962343096235)\n",
      "('JoyLiu', 64.99832045683574)\n",
      "('GovindChad', 70.77128994478835)\n",
      "('HarrisBubalo', 73.50226548078537)\n",
      "('ElaineChu', 68.69463479859603)\n",
      "('VineetChinthakindi', 61.214165261382796)\n",
      "('VarunNair', 62.45802552048355)\n",
      "('JoyLim', 66.84536773328865)\n",
      "('AlexYu', 56.78391959798995)\n",
      "('SharvilTrifale', 71.66890982503365)\n",
      "('AnnaHe', 74.37185929648241)\n",
      "('ShreyaJain', 66.91262787187658)\n",
      "('SuatMartin', 70.22566520714045)\n",
      "('VishalKumar', 65.45820745216515)\n",
      "('CarolZhang', 69.73244147157192)\n",
      "('YerielMaldonado', 58.96186796573156)\n",
      "('EdwardYan', 68.60601984193711)\n",
      "('MarielaNazarioCastro', 63.872590108968986)\n",
      "('ShuenWu', 67.93022475679302)\n"
     ]
    }
   ],
   "source": [
    "for r in hr.items():\n",
    "    print(r)\n",
    "    \n"
   ]
  },
  {
   "cell_type": "code",
   "execution_count": 57,
   "metadata": {},
   "outputs": [
    {
     "name": "stdout",
     "output_type": "stream",
     "text": [
      "DavidDelValle\n",
      "AlexYu\n"
     ]
    }
   ],
   "source": [
    "import operator\n",
    "print(max(hr.items(), key=operator.itemgetter(1))[0])\n",
    "print(min(hr.items(), key=operator.itemgetter(1))[0])"
   ]
  },
  {
   "cell_type": "code",
   "execution_count": 58,
   "metadata": {},
   "outputs": [
    {
     "data": {
      "text/plain": [
       "OrderedDict([('AlexYu', 56.78391959798995),\n",
       "             ('YerielMaldonado', 58.96186796573156),\n",
       "             ('VineetChinthakindi', 61.214165261382796),\n",
       "             ('VarunNair', 62.45802552048355),\n",
       "             ('MarielaNazarioCastro', 63.872590108968986),\n",
       "             ('EstebanCintron', 64.22478675363773),\n",
       "             ('JoyLiu', 64.99832045683574),\n",
       "             ('VishalKumar', 65.45820745216515),\n",
       "             ('JoyLim', 66.84536773328865),\n",
       "             ('ShreyaJain', 66.91262787187658),\n",
       "             ('ShuenWu', 67.93022475679302),\n",
       "             ('EdwardYan', 68.60601984193711),\n",
       "             ('ElaineChu', 68.69463479859603),\n",
       "             ('CarolZhang', 69.73244147157192),\n",
       "             ('SuatMartin', 70.22566520714045),\n",
       "             ('GovindChad', 70.77128994478835),\n",
       "             ('SharvilTrifale', 71.66890982503365),\n",
       "             ('OdessaThompson', 72.0403022670025),\n",
       "             ('AadiDass-Vattam', 72.22222222222221),\n",
       "             ('HarrisBubalo', 73.50226548078537),\n",
       "             ('PratikBharadwaj', 74.30962343096235),\n",
       "             ('AnnaHe', 74.37185929648241),\n",
       "             ('DavidDelValle', 75.46536978031193)])"
      ]
     },
     "execution_count": 58,
     "metadata": {},
     "output_type": "execute_result"
    }
   ],
   "source": [
    "import collections\n",
    "sorted_x = sorted(hr.items(), key=lambda kv: kv[1])\n",
    "sorted_dict = collections.OrderedDict(sorted_x)\n",
    "sorted_dict"
   ]
  },
  {
   "cell_type": "code",
   "execution_count": null,
   "metadata": {},
   "outputs": [],
   "source": []
  }
 ],
 "metadata": {
  "kernelspec": {
   "display_name": "Python 3",
   "language": "python",
   "name": "python3"
  },
  "language_info": {
   "codemirror_mode": {
    "name": "ipython",
    "version": 3
   },
   "file_extension": ".py",
   "mimetype": "text/x-python",
   "name": "python",
   "nbconvert_exporter": "python",
   "pygments_lexer": "ipython3",
   "version": "3.6.8"
  }
 },
 "nbformat": 4,
 "nbformat_minor": 2
}
